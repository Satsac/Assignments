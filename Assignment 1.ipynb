{
 "cells": [
  {
   "cell_type": "raw",
   "id": "0aeafe3b",
   "metadata": {},
   "source": [
    "1. In the below elements which of them are values or an expression? eg:- values can be integer or string and expressions will be mathematical operators.\n",
    "*                      = Expression\n",
    "'hello'                = Value\n",
    "-87.8                  = Value\n",
    "-                      = Expression\n",
    "/                      = Expression\n",
    "+\t                   = Expression\n",
    "6                      = Value"
   ]
  },
  {
   "cell_type": "raw",
   "id": "148cbbc9",
   "metadata": {},
   "source": [
    "2. What is the difference between string and variable?\n",
    "   String is a series of characters enclosed within quotation \n",
    "   ex.: 'Sandy', '124', etc\n",
    "   and A variable is a reserved location in a computer memory to store   value\n",
    "   ex.: x = 12 #x is a variable storing value 12"
   ]
  },
  {
   "cell_type": "raw",
   "id": "106b15b6",
   "metadata": {},
   "source": [
    "3. Describe three different data types.\n",
    "   The different data types are \n",
    "   Integer: It is a numerical value denoted by int. ex: 12, -21 etc\n",
    "   floating : It is a numerical value with decimal part referred as float ex: 3.5, 75.68 etc\n",
    "   complex : It is a number with real and imaginary part joined by operator. ex.: 3+8j, 75-9j etc"
   ]
  },
  {
   "cell_type": "raw",
   "id": "400226bd",
   "metadata": {},
   "source": [
    "4. What is an expression made up of? What do all expressions do?\n",
    "   An expression is made up of mathematical operators. They perform some mathematical function.\n",
    "   addition: 3+8 = 11 #11 is value out of addition operator +.\n",
    "   Substraction: 5-2 = 3 \n",
    "   Division : 4/2\n",
    "   Power : 2**3\n",
    "   multiplication : 5*3"
   ]
  },
  {
   "cell_type": "raw",
   "id": "07dcca6c",
   "metadata": {},
   "source": [
    "5. This assignment statements, like spam = 10. What is the difference between an expression and a statement?\n",
    "  expression includes values and operaters that perform some operation to create a new value whereas statement is statement that doesnot return any value.\n",
    "  In above example the value 10 is assigned to spam."
   ]
  },
  {
   "cell_type": "raw",
   "id": "5c5e7964",
   "metadata": {},
   "source": [
    "6. After running the following code, what does the variable bacon contain?\n",
    "bacon = 22\n",
    "bacon + 1\n",
    " \n",
    " bacon contains value 23"
   ]
  },
  {
   "cell_type": "raw",
   "id": "e7c21480",
   "metadata": {},
   "source": [
    " 7. What should the values of the following two terms be?\n",
    "'spam' + 'spamspam' \n",
    "     \n",
    "    > 'spamspamspam'\n",
    "    \n",
    "'spam' * 3\n",
    "\n",
    "    > 'spamspamspam'"
   ]
  },
  {
   "cell_type": "raw",
   "id": "f51fb807",
   "metadata": {},
   "source": [
    "8. Why is eggs a valid variable name while 100 is invalid?\n",
    "   A variable can contain letters, numbers and underscore but cannot start with a number. thus eggs is a valid variable but 100 being a number is not a variable its a value. eggs_100 can be variable."
   ]
  },
  {
   "cell_type": "raw",
   "id": "30d30fcd",
   "metadata": {},
   "source": [
    "9. What three functions can be used to get the integer, floating-point number, or string version of a value?\n",
    "  For integer the expression used is int\n",
    "  For floating-point the expression is float\n",
    "  for string version of a value it is str"
   ]
  },
  {
   "cell_type": "raw",
   "id": "b45387f1",
   "metadata": {},
   "source": [
    "10. Why does this expression cause an error? How can you fix it?\n",
    "'I have eaten ' + 99 + ' burritos.'\n",
    "     \n",
    "     since 99 in the expression is a value and rest are string. concatenation cannot be done. enclosing the 99 within quotation will fix the error."
   ]
  }
 ],
 "metadata": {
  "kernelspec": {
   "display_name": "Python 3 (ipykernel)",
   "language": "python",
   "name": "python3"
  },
  "language_info": {
   "codemirror_mode": {
    "name": "ipython",
    "version": 3
   },
   "file_extension": ".py",
   "mimetype": "text/x-python",
   "name": "python",
   "nbconvert_exporter": "python",
   "pygments_lexer": "ipython3",
   "version": "3.9.7"
  }
 },
 "nbformat": 4,
 "nbformat_minor": 5
}
