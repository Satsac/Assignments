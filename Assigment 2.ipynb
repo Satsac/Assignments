{
 "cells": [
  {
   "cell_type": "raw",
   "id": "02100917",
   "metadata": {},
   "source": [
    "1.What are the two values of the Boolean data type? How do you write them?\n",
    "  The two values of the Boolean data type are written as:\n",
    "   True\n",
    "   False"
   ]
  },
  {
   "cell_type": "raw",
   "id": "12a23a21",
   "metadata": {},
   "source": [
    "2. What are the three different types of Boolean operators?\n",
    "  The three different types of Boolean operators are AND, OR and NOT."
   ]
  },
  {
   "cell_type": "raw",
   "id": "fa816353",
   "metadata": {},
   "source": [
    "3. Make a list of each Boolean operator's truth tables (i.e. every possible combination of Boolean values for the operator and what it evaluate ).\n",
    "    AND operator \n",
    "     A           B            A AND B\n",
    "     True        True         True\n",
    "     True        False        False\n",
    "     False       True         False\n",
    "     False       False        False\n",
    "     \n",
    "     OR operator\n",
    "     A           B            A OR B\n",
    "     True        True         True\n",
    "     True        False        True\n",
    "     False       True         True\n",
    "     False       False        False\n",
    "     \n",
    "     NOT operator\n",
    "     A           NOT A\n",
    "     True        False\n",
    "     False       True"
   ]
  },
  {
   "cell_type": "raw",
   "id": "f4db904b",
   "metadata": {},
   "source": [
    "4. What are the values of the following expressions?\n",
    "(5 > 4) and (3 == 5)                      False\n",
    "not (5 > 4)                               False\n",
    "(5 > 4) or (3 == 5)                       True\n",
    "not ((5 > 4) or (3 == 5))                 False\n",
    "(True and True) and (True == False)       False\n",
    "(not False) or (not True)                 True\n"
   ]
  },
  {
   "cell_type": "raw",
   "id": "901372ca",
   "metadata": {},
   "source": [
    "5. What are the six comparison operators?\n",
    "   The six comparison operators are:\n",
    "   >   : Greater than\n",
    "   <   : Less than \n",
    "   ==  : Equal to\n",
    "   !=  : Not equal to\n",
    "   >=  : greater than or equal to\n",
    "   <=  : less than or equal to"
   ]
  },
  {
   "cell_type": "raw",
   "id": "5c37df03",
   "metadata": {},
   "source": [
    "6. How do you tell the difference between the equal to and assignment operators?Describe a condition and when you would use one.\n",
    "  Equal to : ==\n",
    "    this operator return boolean value on comparison\n",
    "    ex.: 3 == 5     returns False\n",
    "         7 == 7     returns True\n",
    "    assignment : = \n",
    "    this operator assigns the value \n",
    "    ex.: a = 7\n",
    "        here the value 7 is assigned to variable a"
   ]
  },
  {
   "cell_type": "raw",
   "id": "d8be3f04",
   "metadata": {},
   "source": [
    "7. Identify the three blocks in this code:\n",
    "spam = 0\n",
    "if spam == 10:\n",
    "print('eggs')\n",
    "if spam > 5:\n",
    "print('bacon')\n",
    "else:\n",
    "print('ham')\n",
    "print('spam')\n",
    "print('spam')\n",
    " \n",
    " after condition statements indentation is missing thus the correct one be :\n",
    "spam = 0\n",
    "if spam == 10:\n",
    "    print('eggs')\n",
    "   if spam > 5:\n",
    "       print('bacon')\n",
    "   else:\n",
    "       print('ham')\n",
    "    print('spam')\n",
    "print('spam')"
   ]
  },
  {
   "cell_type": "raw",
   "id": "452e0064",
   "metadata": {},
   "source": [
    "8. Write code that prints Hello if 1 is stored in spam, prints Howdy if 2 is stored in spam, and prints Greetings! if anything else is stored in spam."
   ]
  },
  {
   "cell_type": "code",
   "execution_count": 1,
   "id": "e6f2c3f1",
   "metadata": {},
   "outputs": [
    {
     "name": "stdout",
     "output_type": "stream",
     "text": [
      "2\n",
      "howdy\n"
     ]
    }
   ],
   "source": [
    "spam = int(input())\n",
    "if spam == 1:\n",
    "    print(\"hello\")\n",
    "elif spam == 2:\n",
    "    print(\"howdy\")\n",
    "else:\n",
    "    print(\"Greetings\")"
   ]
  },
  {
   "cell_type": "raw",
   "id": "42b4e30f",
   "metadata": {},
   "source": [
    "9.If your programme is stuck in an endless loop, what keys you’ll press?\n",
    "  Either we can press stop to interrupt the kernel or press CTRL+C to come out of infinite loop."
   ]
  },
  {
   "cell_type": "raw",
   "id": "6fa73712",
   "metadata": {},
   "source": [
    "10. How can you tell the difference between break and continue?\n",
    "   In continue statement loop doesnot terminate but continues on with the next iteration\n",
    "   The break statement terminates the loop containing it. the program jumps to the statement immediately after the body of the loop"
   ]
  },
  {
   "cell_type": "raw",
   "id": "bb2a4a8f",
   "metadata": {},
   "source": [
    "11. In a for loop, what is the difference between range(10), range(0, 10), and range(0, 10, 1)?\n",
    "  range(10) is range(stop) contains or gives all indice values from 0 to 9 as 0,1,2,3,4,5,6,7,8,9\n",
    "  range(0,10) is range(start,stop) which defines start and end point of a range\n",
    "  range(0,10,1) is range(start,stop,step) has step size of 1 with start pont as 0 and end point as 10."
   ]
  },
  {
   "cell_type": "raw",
   "id": "0209fa96",
   "metadata": {},
   "source": [
    "12. Write a short program that prints the numbers 1 to 10 using a for loop. Then write an equivalent program that prints the numbers 1 to 10 using a while loop."
   ]
  },
  {
   "cell_type": "code",
   "execution_count": 2,
   "id": "5347aca1",
   "metadata": {},
   "outputs": [
    {
     "name": "stdout",
     "output_type": "stream",
     "text": [
      "1 2 3 4 5 6 7 8 9 10 "
     ]
    }
   ],
   "source": [
    "for i in range(1,11):\n",
    "    print(i, end=' ')"
   ]
  },
  {
   "cell_type": "code",
   "execution_count": 3,
   "id": "ea022edb",
   "metadata": {},
   "outputs": [
    {
     "name": "stdout",
     "output_type": "stream",
     "text": [
      "1 2 3 4 5 6 7 8 9 10 "
     ]
    }
   ],
   "source": [
    "i = 1\n",
    "while i < 11:\n",
    "    print(i, end =' ')\n",
    "    i +=1"
   ]
  },
  {
   "cell_type": "raw",
   "id": "c0202ecd",
   "metadata": {},
   "source": [
    "13. If you had a function named bacon() inside a module named spam, how would you call it after importing spam?\n",
    " this function can be called with spam.bacon()"
   ]
  }
 ],
 "metadata": {
  "kernelspec": {
   "display_name": "Python 3 (ipykernel)",
   "language": "python",
   "name": "python3"
  },
  "language_info": {
   "codemirror_mode": {
    "name": "ipython",
    "version": 3
   },
   "file_extension": ".py",
   "mimetype": "text/x-python",
   "name": "python",
   "nbconvert_exporter": "python",
   "pygments_lexer": "ipython3",
   "version": "3.9.7"
  }
 },
 "nbformat": 4,
 "nbformat_minor": 5
}
