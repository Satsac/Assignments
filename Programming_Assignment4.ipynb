{
 "cells": [
  {
   "cell_type": "raw",
   "id": "22a57232",
   "metadata": {},
   "source": [
    "1.\tWrite a Python Program to Find the Factorial of a Number?"
   ]
  },
  {
   "cell_type": "code",
   "execution_count": 13,
   "id": "8c7d17f4",
   "metadata": {},
   "outputs": [
    {
     "name": "stdout",
     "output_type": "stream",
     "text": [
      "Enter a number: 5\n",
      "Factorial of 5 is 120\n"
     ]
    }
   ],
   "source": [
    "n=int(input(\"Enter a number: \"))\n",
    "def fact(n):\n",
    "    if n<=1:\n",
    "        return 1\n",
    "    else:\n",
    "        n=n*fact(n-1)\n",
    "        return n\n",
    "print(\"Factorial of\",n,\"is\",fact(n))"
   ]
  },
  {
   "cell_type": "raw",
   "id": "29293614",
   "metadata": {},
   "source": [
    "1.\tWrite a Python Program to Display the multiplication Table?"
   ]
  },
  {
   "cell_type": "code",
   "execution_count": 15,
   "id": "e6dc2c4c",
   "metadata": {},
   "outputs": [
    {
     "name": "stdout",
     "output_type": "stream",
     "text": [
      "Enter a number: 12\n",
      "12 x 1 = 12\n",
      "12 x 2 = 24\n",
      "12 x 3 = 36\n",
      "12 x 4 = 48\n",
      "12 x 5 = 60\n",
      "12 x 6 = 72\n",
      "12 x 7 = 84\n",
      "12 x 8 = 96\n",
      "12 x 9 = 108\n",
      "12 x 10 = 120\n"
     ]
    }
   ],
   "source": [
    "n=int(input(\"Enter a number: \"))\n",
    "for i in range(1,11):\n",
    "    print(n,\"x\",i,\"=\",n*i)"
   ]
  },
  {
   "cell_type": "raw",
   "id": "6bb1db46",
   "metadata": {},
   "source": [
    "3.\tWrite a Python Program to Print the Fibonacci sequence?"
   ]
  },
  {
   "cell_type": "code",
   "execution_count": 18,
   "id": "c3718190",
   "metadata": {},
   "outputs": [
    {
     "name": "stdout",
     "output_type": "stream",
     "text": [
      "Enter number of terms: 7\n",
      "fibnacci sequence:\n",
      "0\n",
      "1\n",
      "1\n",
      "2\n",
      "3\n",
      "5\n",
      "8\n"
     ]
    }
   ],
   "source": [
    "n=int(input(\"Enter number of terms: \"))\n",
    "n1,n2=0,1\n",
    "count = 0\n",
    "if n<=0:\n",
    "    print(\"enter a positive integer\")\n",
    "elif n==1:\n",
    "    print(n1)\n",
    "else:\n",
    "    print(\"fibnacci sequence:\")\n",
    "    while count <n:\n",
    "        print(n1)\n",
    "        nth = n1 + n2\n",
    "        n1=n2\n",
    "        n2=nth\n",
    "        count+=1"
   ]
  },
  {
   "cell_type": "raw",
   "id": "2ee2305e",
   "metadata": {},
   "source": [
    "4.\tWrite a Python Program to Check Armstrong Number?"
   ]
  },
  {
   "cell_type": "code",
   "execution_count": 1,
   "id": "e228895e",
   "metadata": {},
   "outputs": [
    {
     "name": "stdout",
     "output_type": "stream",
     "text": [
      "Enter number : 407\n",
      "407 is an Atmstrong number\n"
     ]
    }
   ],
   "source": [
    "num=int(input(\"Enter number : \"))\n",
    "order = len(str(num))\n",
    "sum=0\n",
    "temp=num\n",
    "while temp>0:\n",
    "    digit =temp%10\n",
    "    sum+=digit**order\n",
    "    temp//=10\n",
    "\n",
    "if num == sum:\n",
    "    print(num,\"is an Atmstrong number\")\n",
    "else:\n",
    "    print(num,\"is not an Atmstrong number\")"
   ]
  },
  {
   "cell_type": "raw",
   "id": "d924d450",
   "metadata": {},
   "source": [
    "5.\tWrite a Python Program to Find Armstrong Number in an Interval?"
   ]
  },
  {
   "cell_type": "code",
   "execution_count": 4,
   "id": "9f5c8ce9",
   "metadata": {},
   "outputs": [],
   "source": [
    "lower=100\n",
    "upper=2000\n",
    "for num in range(lower,upper+1):\n",
    "    order=len(str(num))\n",
    "    sum=0\n",
    "    temp=num\n",
    "    while temp>0:\n",
    "        digit =temp%10\n",
    "        sum+=digit**order\n",
    "        temp//=10\n",
    "    \n",
    "if num == sum:\n",
    "    print(num)"
   ]
  },
  {
   "cell_type": "raw",
   "id": "135565be",
   "metadata": {},
   "source": [
    "6.\tWrite a Python Program to Find the Sum of Natural Numbers?"
   ]
  },
  {
   "cell_type": "code",
   "execution_count": 3,
   "id": "4a0baf82",
   "metadata": {},
   "outputs": [
    {
     "name": "stdout",
     "output_type": "stream",
     "text": [
      "Enter number : 16\n",
      "the sum is : 136\n"
     ]
    }
   ],
   "source": [
    "num=int(input(\"Enter number : \"))\n",
    "if num<0:\n",
    "    print(\"enter a positive number\")\n",
    "else:\n",
    "    sum=0\n",
    "    while(num>0):\n",
    "        sum+=num\n",
    "        num-=1\n",
    "    print(\"the sum is :\",sum)"
   ]
  },
  {
   "cell_type": "code",
   "execution_count": null,
   "id": "35bbbb59",
   "metadata": {},
   "outputs": [],
   "source": []
  }
 ],
 "metadata": {
  "kernelspec": {
   "display_name": "Python 3 (ipykernel)",
   "language": "python",
   "name": "python3"
  },
  "language_info": {
   "codemirror_mode": {
    "name": "ipython",
    "version": 3
   },
   "file_extension": ".py",
   "mimetype": "text/x-python",
   "name": "python",
   "nbconvert_exporter": "python",
   "pygments_lexer": "ipython3",
   "version": "3.9.7"
  }
 },
 "nbformat": 4,
 "nbformat_minor": 5
}
