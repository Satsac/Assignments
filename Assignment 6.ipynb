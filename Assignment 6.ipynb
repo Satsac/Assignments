{
 "cells": [
  {
   "cell_type": "raw",
   "id": "73251d0c",
   "metadata": {},
   "source": [
    "1. What are escape characters, and how do you use them?\n",
    "   These are characters in string values that would otherwise be difficult or impossible to type into code"
   ]
  },
  {
   "cell_type": "raw",
   "id": "c72cd034",
   "metadata": {},
   "source": [
    "2. What do the escape characters n and t stand for?\n",
    "    \\n is a newline\n",
    "    \\t is a tab space"
   ]
  },
  {
   "cell_type": "raw",
   "id": "491ce6ea",
   "metadata": {},
   "source": [
    "3. What is the way to include backslash characters in a string?\n",
    "   the \\\\ escape character is used to include backlash"
   ]
  },
  {
   "cell_type": "raw",
   "id": "11cd66db",
   "metadata": {},
   "source": [
    "4. The string \"Howl's Moving Castle\" is a correct value. Why isn't the single quote character in the word Howl's not escaped a problem\n",
    "  because we have used double quotation at end."
   ]
  },
  {
   "cell_type": "raw",
   "id": "72192570",
   "metadata": {},
   "source": [
    "5. How do you write a string of newlines if you don't want to use the n character?\n",
    "  Multiline strings allow us to use newline without use of \\n character."
   ]
  },
  {
   "cell_type": "raw",
   "id": "aa1d9792",
   "metadata": {},
   "source": [
    "6. What are the values of the given expressions?\n",
    "'Hello, world!'[1]                value : 'e'\n",
    "'Hello, world!'[0:5]              value : 'Hello'\n",
    "'Hello, world!'[:5]               value : 'Hello'\n",
    "'Hello, world!'[3:]               value : 'lo world!'\n"
   ]
  },
  {
   "cell_type": "raw",
   "id": "de2291c2",
   "metadata": {},
   "source": [
    "7. What are the values of the following expressions?\n",
    "'Hello'.upper()                       value : 'HELLO'\n",
    "'Hello'.upper().isupper()             value : True\n",
    "'Hello'.upper().lower()               value : 'hello'"
   ]
  },
  {
   "cell_type": "raw",
   "id": "f0136846",
   "metadata": {},
   "source": [
    "8. What are the values of the following expressions?\n",
    "'Remember, remember, the fifth of July.'.split()\n",
    "   \n",
    "    ['Remember,', 'remember,','the','fifth','of','July.']\n",
    "    \n",
    "'-'.join('There can only one.'.split())\n",
    "      \n",
    "      'There-can-only-one.'"
   ]
  },
  {
   "cell_type": "raw",
   "id": "0ace49a9",
   "metadata": {},
   "source": [
    "9. What are the methods for right-justifying, left-justifying, and centering a string?\n",
    "    \n",
    "    The rjust(),ljust() and center() string methods, respectively"
   ]
  },
  {
   "cell_type": "raw",
   "id": "065da921",
   "metadata": {},
   "source": [
    "10. What is the best way to remove whitespace characters from the start or end?\n",
    "    The lstrip() to remove left end space and rstrip() to remove right end space."
   ]
  },
  {
   "cell_type": "code",
   "execution_count": null,
   "id": "5c00f070",
   "metadata": {},
   "outputs": [],
   "source": []
  }
 ],
 "metadata": {
  "kernelspec": {
   "display_name": "Python 3 (ipykernel)",
   "language": "python",
   "name": "python3"
  },
  "language_info": {
   "codemirror_mode": {
    "name": "ipython",
    "version": 3
   },
   "file_extension": ".py",
   "mimetype": "text/x-python",
   "name": "python",
   "nbconvert_exporter": "python",
   "pygments_lexer": "ipython3",
   "version": "3.9.7"
  }
 },
 "nbformat": 4,
 "nbformat_minor": 5
}
