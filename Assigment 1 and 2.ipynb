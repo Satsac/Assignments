{
 "cells": [
  {
   "cell_type": "raw",
   "id": "4e3ddecf",
   "metadata": {},
   "source": [
    "# Assignment_1\n",
    "1. In the below elements which of them are values or an expression? eg:- values can be integer or string and expressions will be mathematical operators.\n",
    "*                      = Expression\n",
    "'hello'                = Value\n",
    "-87.8                  = Value\n",
    "-                      = Expression\n",
    "/                      = Expression\n",
    "+\t                   = Expression\n",
    "6                      = Value\n"
   ]
  },
  {
   "cell_type": "raw",
   "id": "fb7bae41",
   "metadata": {},
   "source": [
    "2. What is the difference between string and variable?\n",
    "   String is a series of characters enclosed within quotation \n",
    "   ex.: 'Sandy', '124', etc\n",
    "   and A variable is a reserved location in a computer memory to store   value\n",
    "   ex.: x = 12 #x is a variable storing value 12\n"
   ]
  },
  {
   "cell_type": "raw",
   "id": "2dc4fe74",
   "metadata": {},
   "source": [
    "3. Describe three different data types.\n",
    "   The different data types are \n",
    "   Integer: It is a numerical value denoted by int. ex: 12, -21 etc\n",
    "   floating : It is a numerical value with decimal part referred as float ex: 3.5, 75.68 etc\n",
    "   complex : It is a number with real and imaginary part joined by operator. ex.: 3+8j, 75-9j etc"
   ]
  },
  {
   "cell_type": "raw",
   "id": "73077326",
   "metadata": {},
   "source": [
    "4. What is an expression made up of? What do all expressions do?\n",
    "   An expression is made up of mathematical operators. They perform some mathematical function.\n",
    "   addition: 3+8 = 11 #11 is value out of addition operator +.\n",
    "   Substraction: 5-2 = 3 \n",
    "   Division : 4/2\n",
    "   Power : 2**3\n",
    "   multiplication : 5*3"
   ]
  },
  {
   "cell_type": "raw",
   "id": "b7ca89ab",
   "metadata": {},
   "source": [
    "5. This assignment statements, like spam = 10. What is the difference between an expression and a statement?\n",
    "  expression includes values and operaters that perform some operation to create a new value whereas statement is statement that doesnot return any value.\n",
    "  In above example the value 10 is assigned to spam."
   ]
  },
  {
   "cell_type": "raw",
   "id": "a1e459ca",
   "metadata": {},
   "source": [
    "6. After running the following code, what does the variable bacon contain?\n",
    "bacon = 22\n",
    "bacon + 1\n",
    " \n",
    " bacon contains value 23\n"
   ]
  },
  {
   "cell_type": "raw",
   "id": "645f939e",
   "metadata": {},
   "source": [
    "# 7. What should the values of the following two terms be?\n",
    "'spam' + 'spamspam' \n",
    "     \n",
    "    > 'spamspamspam'\n",
    "    \n",
    "'spam' * 3\n",
    "\n",
    "    > 'spamspamspam'\n"
   ]
  },
  {
   "cell_type": "raw",
   "id": "40a5d370",
   "metadata": {},
   "source": [
    "8. Why is eggs a valid variable name while 100 is invalid?\n",
    "   A variable can contain letters, numbers and underscore but cannot start with a number. thus eggs is a valid variable but 100 being a number is not a variable its a value. eggs_100 can be variable."
   ]
  },
  {
   "cell_type": "raw",
   "id": "dc757ff2",
   "metadata": {},
   "source": [
    "9. What three functions can be used to get the integer, floating-point number, or string version of a value?\n",
    "  For integer the expression used is int\n",
    "  For floating-point the expression is float\n",
    "  for string version of a value it is str"
   ]
  },
  {
   "cell_type": "raw",
   "id": "5558e3d3",
   "metadata": {},
   "source": [
    "10. Why does this expression cause an error? How can you fix it?\n",
    "'I have eaten ' + 99 + ' burritos.'\n",
    "     \n",
    "     since 99 in the expression is a value and rest are string. concatenation cannot be done. enclosing the 99 within quotation will fix the error."
   ]
  },
  {
   "cell_type": "markdown",
   "id": "4258acb3",
   "metadata": {},
   "source": [
    "# Assignment 2"
   ]
  },
  {
   "cell_type": "raw",
   "id": "6d5dc25f",
   "metadata": {},
   "source": [
    "1.What are the two values of the Boolean data type? How do you write them?\n",
    "  The two values of the Boolean data type are written as:\n",
    "   True\n",
    "   False"
   ]
  },
  {
   "cell_type": "raw",
   "id": "750b90fd",
   "metadata": {},
   "source": [
    "2. What are the three different types of Boolean operators?\n",
    "  The three different types of Boolean operators are AND, OR and NOT."
   ]
  },
  {
   "cell_type": "raw",
   "id": "3db86010",
   "metadata": {},
   "source": [
    "3. Make a list of each Boolean operator's truth tables (i.e. every possible combination of Boolean values for the operator and what it evaluate ).\n",
    "    AND operator \n",
    "     A           B            A AND B\n",
    "     True        True         True\n",
    "     True        False        False\n",
    "     False       True         False\n",
    "     False       False        False\n",
    "     \n",
    "     OR operator\n",
    "     A           B            A OR B\n",
    "     True        True         True\n",
    "     True        False        True\n",
    "     False       True         True\n",
    "     False       False        False\n",
    "     \n",
    "     NOT operator\n",
    "     A           NOT A\n",
    "     True        False\n",
    "     False       True"
   ]
  },
  {
   "cell_type": "raw",
   "id": "fed83d19",
   "metadata": {},
   "source": [
    "4. What are the values of the following expressions?\n",
    "(5 > 4) and (3 == 5)                      False\n",
    "not (5 > 4)                               False\n",
    "(5 > 4) or (3 == 5)                       True\n",
    "not ((5 > 4) or (3 == 5))                 False\n",
    "(True and True) and (True == False)       False\n",
    "(not False) or (not True)                 True\n"
   ]
  },
  {
   "cell_type": "raw",
   "id": "5f3b5900",
   "metadata": {},
   "source": [
    "5. What are the six comparison operators?\n",
    "   The six comparison operators are:\n",
    "   >   : Greater than\n",
    "   <   : Less than \n",
    "   ==  : Equal to\n",
    "   !=  : Not equal to\n",
    "   >=  : greater than or equal to\n",
    "   <=  : less than or equal to"
   ]
  },
  {
   "cell_type": "raw",
   "id": "5eb8acaa",
   "metadata": {},
   "source": [
    "6. How do you tell the difference between the equal to and assignment operators?Describe a condition and when you would use one.\n",
    "  Equal to : ==\n",
    "    this operator return boolean value on comparison\n",
    "    ex.: 3 == 5     returns False\n",
    "         7 == 7     returns True\n",
    "    assignment : = \n",
    "    this operator assigns the value \n",
    "    ex.: a = 7\n",
    "        here the value 7 is assigned to variable a"
   ]
  },
  {
   "cell_type": "raw",
   "id": "a0b2944d",
   "metadata": {},
   "source": [
    "7. Identify the three blocks in this code:\n",
    "spam = 0\n",
    "if spam == 10:\n",
    "print('eggs')\n",
    "if spam > 5:\n",
    "print('bacon')\n",
    "else:\n",
    "print('ham')\n",
    "print('spam')\n",
    "print('spam')\n",
    " \n",
    " after condition statements indentation is missing thus the correct one be :\n",
    "spam = 0\n",
    "if spam == 10:\n",
    "    print('eggs')\n",
    "   if spam > 5:\n",
    "       print('bacon')\n",
    "   else:\n",
    "       print('ham')\n",
    "    print('spam')\n",
    "print('spam')"
   ]
  },
  {
   "cell_type": "raw",
   "id": "5deacaa7",
   "metadata": {},
   "source": [
    "8. Write code that prints Hello if 1 is stored in spam, prints Howdy if 2 is stored in spam, and prints Greetings! if anything else is stored in spam."
   ]
  },
  {
   "cell_type": "code",
   "execution_count": 4,
   "id": "15f50b9c",
   "metadata": {},
   "outputs": [
    {
     "name": "stdout",
     "output_type": "stream",
     "text": [
      "2\n",
      "howdy\n"
     ]
    }
   ],
   "source": [
    "spam = int(input())\n",
    "if spam == 1:\n",
    "    print(\"hello\")\n",
    "elif spam == 2:\n",
    "    print(\"howdy\")\n",
    "else:\n",
    "    print(\"Greetings\")"
   ]
  },
  {
   "cell_type": "raw",
   "id": "8a2c76fb",
   "metadata": {},
   "source": [
    "9.If your programme is stuck in an endless loop, what keys you’ll press?\n",
    "  Either we can press stop to interrupt the kernel or press CTRL+C to come out of infinite loop."
   ]
  },
  {
   "cell_type": "raw",
   "id": "611cfeb2",
   "metadata": {},
   "source": [
    "10. How can you tell the difference between break and continue?\n",
    "   In continue statement loop doesnot terminate but continues on with the next iteration\n",
    "   The break statement terminates the loop containing it. the program jumps to the statement immediately after the body of the loop"
   ]
  },
  {
   "cell_type": "raw",
   "id": "f64caf12",
   "metadata": {},
   "source": [
    "11. In a for loop, what is the difference between range(10), range(0, 10), and range(0, 10, 1)?\n",
    "  range(10) is range(stop) contains or gives all indice values from 0 to 9 as 0,1,2,3,4,5,6,7,8,9\n",
    "  range(0,10) is range(start,stop) which defines start and end point of a range\n",
    "  range(0,10,1) is range(start,stop,step) has step size of 1 with start pont as 0 and end point as 10.\n",
    "  "
   ]
  },
  {
   "cell_type": "raw",
   "id": "1e6fa278",
   "metadata": {},
   "source": [
    "12. Write a short program that prints the numbers 1 to 10 using a for loop. Then write an equivalent program that prints the numbers 1 to 10 using a while loop."
   ]
  },
  {
   "cell_type": "code",
   "execution_count": 6,
   "id": "28509701",
   "metadata": {},
   "outputs": [
    {
     "name": "stdout",
     "output_type": "stream",
     "text": [
      "1 2 3 4 5 6 7 8 9 10 "
     ]
    }
   ],
   "source": [
    "for i in range(1,11):\n",
    "    print(i, end=' ')"
   ]
  },
  {
   "cell_type": "code",
   "execution_count": 8,
   "id": "626974e0",
   "metadata": {},
   "outputs": [
    {
     "name": "stdout",
     "output_type": "stream",
     "text": [
      "1 2 3 4 5 6 7 8 9 10 "
     ]
    }
   ],
   "source": [
    "i = 1\n",
    "while i < 11:\n",
    "    print(i, end =' ')\n",
    "    i +=1"
   ]
  },
  {
   "cell_type": "raw",
   "id": "0d76934f",
   "metadata": {},
   "source": [
    "13. If you had a function named bacon() inside a module named spam, how would you call it after importing spam?\n",
    " this function can be called with spam.bacon()"
   ]
  }
 ],
 "metadata": {
  "kernelspec": {
   "display_name": "Python 3 (ipykernel)",
   "language": "python",
   "name": "python3"
  },
  "language_info": {
   "codemirror_mode": {
    "name": "ipython",
    "version": 3
   },
   "file_extension": ".py",
   "mimetype": "text/x-python",
   "name": "python",
   "nbconvert_exporter": "python",
   "pygments_lexer": "ipython3",
   "version": "3.9.7"
  }
 },
 "nbformat": 4,
 "nbformat_minor": 5
}
