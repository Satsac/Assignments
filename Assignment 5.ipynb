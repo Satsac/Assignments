{
 "cells": [
  {
   "cell_type": "raw",
   "id": "b1fac031",
   "metadata": {},
   "source": [
    "1. What does an empty dictionary's code look like?\n",
    "   {}"
   ]
  },
  {
   "cell_type": "raw",
   "id": "1bd267f2",
   "metadata": {},
   "source": [
    "2. What is the value of a dictionary value with the key 'foo' and the value 42?\n",
    "   {'foo':42}"
   ]
  },
  {
   "cell_type": "raw",
   "id": "c6316abe",
   "metadata": {},
   "source": [
    "3. What is the most significant distinction between a dictionary and a list?\n",
    "   list holds only values with items in ordered mannered, whereas dictionary is unordered storage set having keys to each value."
   ]
  },
  {
   "cell_type": "raw",
   "id": "5dbe2449",
   "metadata": {},
   "source": [
    "4. What happens if you try to access spam['foo'] if spam is {'bar': 100}?\n",
    "   You will get a key error."
   ]
  },
  {
   "cell_type": "code",
   "execution_count": 1,
   "id": "d1671380",
   "metadata": {},
   "outputs": [
    {
     "ename": "KeyError",
     "evalue": "'foo'",
     "output_type": "error",
     "traceback": [
      "\u001b[1;31m---------------------------------------------------------------------------\u001b[0m",
      "\u001b[1;31mKeyError\u001b[0m                                  Traceback (most recent call last)",
      "\u001b[1;32m~\\AppData\\Local\\Temp/ipykernel_3264/364692274.py\u001b[0m in \u001b[0;36m<module>\u001b[1;34m\u001b[0m\n\u001b[0;32m      1\u001b[0m \u001b[0mspam\u001b[0m \u001b[1;33m=\u001b[0m \u001b[1;33m{\u001b[0m\u001b[1;34m\"bar\"\u001b[0m\u001b[1;33m:\u001b[0m \u001b[1;36m100\u001b[0m\u001b[1;33m}\u001b[0m\u001b[1;33m\u001b[0m\u001b[1;33m\u001b[0m\u001b[0m\n\u001b[1;32m----> 2\u001b[1;33m \u001b[0mspam\u001b[0m\u001b[1;33m[\u001b[0m\u001b[1;34m\"foo\"\u001b[0m\u001b[1;33m]\u001b[0m\u001b[1;33m\u001b[0m\u001b[1;33m\u001b[0m\u001b[0m\n\u001b[0m",
      "\u001b[1;31mKeyError\u001b[0m: 'foo'"
     ]
    }
   ],
   "source": [
    "spam = {\"bar\": 100}\n",
    "spam[\"foo\"]"
   ]
  },
  {
   "cell_type": "raw",
   "id": "de6e6eae",
   "metadata": {},
   "source": [
    "5. If a dictionary is stored in spam, what is the difference between the expressions 'cat' in spam and 'cat' in spam.keys()?\n",
    "   there is no difference. The in operator checks whether a value exists as a key in the dictonary."
   ]
  },
  {
   "cell_type": "raw",
   "id": "9b077624",
   "metadata": {},
   "source": [
    "6. If a dictionary is stored in spam, what is the difference between the expressions 'cat' in spam and 'cat' in spam.values()?\n",
    "   'cat' in spam will check whether 'cat' is available in the key of the dictionary set. 'cat' in spam.values() will check the same in values of the dictionary"
   ]
  },
  {
   "cell_type": "raw",
   "id": "f98b4449",
   "metadata": {},
   "source": [
    "7. What is a shortcut for the following code?\n",
    "if 'color' not in spam:\n",
    "spam['color'] = 'black'\n",
    "    \n",
    "    spam.setdefault(\"colour\",\"black\")"
   ]
  },
  {
   "cell_type": "raw",
   "id": "61f8dcd5",
   "metadata": {},
   "source": [
    "8. How do you \"pretty print\" dictionary values using which module and function?\n",
    "   \n",
    "   pprint.pprint()"
   ]
  }
 ],
 "metadata": {
  "kernelspec": {
   "display_name": "Python 3 (ipykernel)",
   "language": "python",
   "name": "python3"
  },
  "language_info": {
   "codemirror_mode": {
    "name": "ipython",
    "version": 3
   },
   "file_extension": ".py",
   "mimetype": "text/x-python",
   "name": "python",
   "nbconvert_exporter": "python",
   "pygments_lexer": "ipython3",
   "version": "3.9.7"
  }
 },
 "nbformat": 4,
 "nbformat_minor": 5
}
