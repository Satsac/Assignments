{
 "cells": [
  {
   "cell_type": "raw",
   "id": "52a93d4e",
   "metadata": {},
   "source": [
    "1. What exactly is []?\n",
    "\n",
    "  [] is square bracket that denotes to list holding no elements or 0 elements "
   ]
  },
  {
   "cell_type": "raw",
   "id": "99575b0e",
   "metadata": {},
   "source": [
    "2. In a list of values stored in a variable called spam, how would you assign the value 'hello' as the third value? (Assume [2, 4, 6, 8, 10] are in spam.)\n",
    "\n",
    "   By assigning the string 'hello' to index value 3 as \n",
    "     spam[2] = 'hello'"
   ]
  },
  {
   "cell_type": "code",
   "execution_count": 24,
   "id": "b231550d",
   "metadata": {},
   "outputs": [
    {
     "data": {
      "text/plain": [
       "[2, 4, 'hello', 8, 10]"
      ]
     },
     "execution_count": 24,
     "metadata": {},
     "output_type": "execute_result"
    }
   ],
   "source": [
    "spam = [2,4,6,8,10]\n",
    "spam[2]='hello'\n",
    "spam"
   ]
  },
  {
   "cell_type": "raw",
   "id": "3eab81dd",
   "metadata": {},
   "source": [
    "Let's pretend the spam includes the list ['a', 'b', 'c', 'd'] for the next three queries.\n"
   ]
  },
  {
   "cell_type": "code",
   "execution_count": 13,
   "id": "89721c0f",
   "metadata": {},
   "outputs": [],
   "source": [
    "spam = ['a', 'b', 'c', 'd']"
   ]
  },
  {
   "cell_type": "raw",
   "id": "9095b035",
   "metadata": {},
   "source": [
    "3. What is the value of spam[int(int('3' * 2) / 11)]?\n",
    "\n",
    "  the above value redues to spam [3]\n",
    "  which will return the value with index 3."
   ]
  },
  {
   "cell_type": "code",
   "execution_count": 14,
   "id": "53e6a014",
   "metadata": {},
   "outputs": [
    {
     "data": {
      "text/plain": [
       "'d'"
      ]
     },
     "execution_count": 14,
     "metadata": {},
     "output_type": "execute_result"
    }
   ],
   "source": [
    "spam[int(int('3' * 2) / 11)]"
   ]
  },
  {
   "cell_type": "raw",
   "id": "b63a4784",
   "metadata": {},
   "source": [
    "4. What is the value of spam[-1]?"
   ]
  },
  {
   "cell_type": "code",
   "execution_count": 15,
   "id": "a904244f",
   "metadata": {},
   "outputs": [
    {
     "data": {
      "text/plain": [
       "'d'"
      ]
     },
     "execution_count": 15,
     "metadata": {},
     "output_type": "execute_result"
    }
   ],
   "source": [
    "spam[-1]"
   ]
  },
  {
   "cell_type": "raw",
   "id": "570a6f21",
   "metadata": {},
   "source": [
    "5. What is the value of spam[:2]?"
   ]
  },
  {
   "cell_type": "code",
   "execution_count": 16,
   "id": "4dd1f885",
   "metadata": {},
   "outputs": [
    {
     "data": {
      "text/plain": [
       "['a', 'b']"
      ]
     },
     "execution_count": 16,
     "metadata": {},
     "output_type": "execute_result"
    }
   ],
   "source": [
    "spam[:2]"
   ]
  },
  {
   "cell_type": "raw",
   "id": "390ff2d9",
   "metadata": {},
   "source": [
    "Let's pretend bacon has the list [3.14, 'cat,' 11, 'cat,' True] for the next three questions."
   ]
  },
  {
   "cell_type": "code",
   "execution_count": 18,
   "id": "943cab3d",
   "metadata": {},
   "outputs": [],
   "source": [
    "bacon = [3.14, 'cat', 11, 'cat', True]"
   ]
  },
  {
   "cell_type": "raw",
   "id": "b95bb7ab",
   "metadata": {},
   "source": [
    "6. What is the value of bacon.index('cat')?"
   ]
  },
  {
   "cell_type": "code",
   "execution_count": 19,
   "id": "d7146f96",
   "metadata": {},
   "outputs": [
    {
     "data": {
      "text/plain": [
       "1"
      ]
     },
     "execution_count": 19,
     "metadata": {},
     "output_type": "execute_result"
    }
   ],
   "source": [
    "bacon.index('cat')"
   ]
  },
  {
   "cell_type": "raw",
   "id": "09ffe279",
   "metadata": {},
   "source": [
    "7. How does bacon.append(99) change the look of the list value in bacon?\n",
    "   \n",
    "   this will append 99 at the end of the list"
   ]
  },
  {
   "cell_type": "code",
   "execution_count": 20,
   "id": "7eb26271",
   "metadata": {},
   "outputs": [],
   "source": [
    "bacon.append(99)"
   ]
  },
  {
   "cell_type": "code",
   "execution_count": 21,
   "id": "a2bf28b5",
   "metadata": {},
   "outputs": [
    {
     "data": {
      "text/plain": [
       "[3.14, 'cat', 11, 'cat', True, 99]"
      ]
     },
     "execution_count": 21,
     "metadata": {},
     "output_type": "execute_result"
    }
   ],
   "source": [
    "bacon"
   ]
  },
  {
   "cell_type": "raw",
   "id": "3cd53eb5",
   "metadata": {},
   "source": [
    "8. How does bacon.remove('cat') change the look of the list in bacon?\n",
    "  \n",
    "  the value 'cat' at first occuring in the list will be removed"
   ]
  },
  {
   "cell_type": "code",
   "execution_count": 22,
   "id": "29b4a9c0",
   "metadata": {},
   "outputs": [],
   "source": [
    "bacon.remove('cat')"
   ]
  },
  {
   "cell_type": "code",
   "execution_count": 23,
   "id": "146de31b",
   "metadata": {},
   "outputs": [
    {
     "data": {
      "text/plain": [
       "[3.14, 11, 'cat', True, 99]"
      ]
     },
     "execution_count": 23,
     "metadata": {},
     "output_type": "execute_result"
    }
   ],
   "source": [
    "bacon"
   ]
  },
  {
   "cell_type": "raw",
   "id": "0a0825f4",
   "metadata": {},
   "source": [
    "9. What are the list concatenation and list replication operators?\n",
    "\n",
    "  for list concatenation operator is +\n",
    "  and for list replication operator is *"
   ]
  },
  {
   "cell_type": "raw",
   "id": "fccec057",
   "metadata": {},
   "source": [
    "10. What is difference between the list methods append() and insert()?\n",
    "   \n",
    "   list append will add the entire set without change at end of list whereas list insert will add the elements anywhere in the list."
   ]
  },
  {
   "cell_type": "raw",
   "id": "9acba869",
   "metadata": {},
   "source": [
    "11. What are the two methods for removing items from a list?\n",
    "\n",
    "   one method is list.remove(\"item\")\n",
    "   and other is del item"
   ]
  },
  {
   "cell_type": "raw",
   "id": "9504ea7f",
   "metadata": {},
   "source": [
    "12. Describe how list values and string values are identical.\n",
    "   list and strings are mutable that can be sliced,they have indexes, can be concatenated or replicated"
   ]
  },
  {
   "cell_type": "raw",
   "id": "883042d2",
   "metadata": {},
   "source": [
    "13. What's the difference between tuples and lists?\n",
    "     lists are mutable entity they have values that can be added, removed or changed. tuples are immutable, they cannot be changed. lists are enclosed in square brackets[] and tuples in parentheses()."
   ]
  },
  {
   "cell_type": "raw",
   "id": "edff9994",
   "metadata": {},
   "source": [
    "14. How do you type a tuple value that only contains the integer 42?\n",
    "    (42,)"
   ]
  },
  {
   "cell_type": "raw",
   "id": "4b78b598",
   "metadata": {},
   "source": [
    "15. How do you get a list value's tuple form? How do you get a tuple value's list form?\n",
    "  the tuple() and list() functions respectively."
   ]
  },
  {
   "cell_type": "raw",
   "id": "cb4d8270",
   "metadata": {},
   "source": [
    "16. Variables that \"contain\" list values are not necessarily lists themselves. Instead, what do they contain?\n",
    "  they contain references to list value"
   ]
  },
  {
   "cell_type": "raw",
   "id": "3b5183cf",
   "metadata": {},
   "source": [
    "17. How do you distinguish between copy.copy() and copy.deepcopy()?\n",
    "    The copy.copy() function will do a shallow copy of a list, while the copy.deepcopy() function will do a deep copy of a list. that is only copy.deepcopy() will duplicate any lists inside the list."
   ]
  }
 ],
 "metadata": {
  "kernelspec": {
   "display_name": "Python 3 (ipykernel)",
   "language": "python",
   "name": "python3"
  },
  "language_info": {
   "codemirror_mode": {
    "name": "ipython",
    "version": 3
   },
   "file_extension": ".py",
   "mimetype": "text/x-python",
   "name": "python",
   "nbconvert_exporter": "python",
   "pygments_lexer": "ipython3",
   "version": "3.9.7"
  }
 },
 "nbformat": 4,
 "nbformat_minor": 5
}
